{
 "cells": [
  {
   "cell_type": "markdown",
   "id": "601931b4-6e96-4c7b-b3b4-61e982b570d0",
   "metadata": {
    "tags": []
   },
   "source": [
    "# Data Science Tools and Ecosystem\n",
    "## Introduction\n",
    "\n",
    " In this notebook Data Science Tools and Ecosystem are summarized.\n",
    "** Objectives **\n",
    "- Learn about the most popular languages in Data Science\n",
    "- List  the most commonly used libraries in Data Science\n",
    "- Explore different Data Science Tools \n",
    "- Provide arithmetical examples\n",
    "- Practice the difference between markdown cell and code cell\n",
    "\n",
    "### Data Science Languages \n",
    "\n",
    " Find below the most popular languages in Data Science:\n",
    " \n",
    " 1. Python: one of the most popular language in data science\n",
    " 2. R : another popular language, specially used in statistic\n",
    " 3. SQL : Used for structured data \n",
    " 4. Java scripting\n",
    " 5. PHP\n",
    " 6. Julia\n",
    "\n",
    "### Data Science Libraries\n",
    " 1. Pandas: used in data manipulation\n",
    " 2. NumPy: used for numeric computing\n",
    " 3. Matplotlib: used for data visualization\n",
    " 4. Seborn: used for data visualization\n",
    " 5. Keras: Used for deep learning and neural Networks\n",
    " 6. Scikit learn: used for machine learning \n",
    " 7. Tensor Flow: used in deep learning\n",
    " 8. PyTorch: used in deep learning \n",
    " \n",
    "### Data Science Tools\n",
    "\n",
    "|Data Science Tools|\n",
    "|------------------|\n",
    "| Jupiter Notebook|\n",
    "| R Studio |\n",
    "| Watson Studio|\n",
    " \n",
    "### Examples of evaluating Arithmetic Expressions in Python\n"
   ]
  },
  {
   "cell_type": "code",
   "execution_count": 7,
   "id": "58da5127-65c2-4995-9eaa-11453d8d08b0",
   "metadata": {
    "tags": []
   },
   "outputs": [
    {
     "name": "stdout",
     "output_type": "stream",
     "text": [
      "17\n"
     ]
    }
   ],
   "source": [
    " result =(3*4)+5\n",
    " print(result) # This is a simple  arithmetic expression to multiply and add integers "
   ]
  },
  {
   "cell_type": "code",
   "execution_count": 8,
   "id": "576c921d-d9b1-4eb5-8e82-ac5297584fd2",
   "metadata": {
    "tags": []
   },
   "outputs": [
    {
     "name": "stdout",
     "output_type": "stream",
     "text": [
      "3.3333333333333335\n"
     ]
    }
   ],
   "source": [
    "# This will convert 200 minutes to hours by dividing by 60\n",
    "\n",
    "minutes = 200\n",
    "hours = minutes / 60\n",
    "print(hours) \n"
   ]
  },
  {
   "cell_type": "code",
   "execution_count": null,
   "id": "627b50d6-0bf9-4e85-9d81-da08d237da91",
   "metadata": {},
   "outputs": [],
   "source": [
    "## Author\n",
    "** Eniko Baga ** "
   ]
  }
 ],
 "metadata": {
  "kernelspec": {
   "display_name": "Python",
   "language": "python",
   "name": "conda-env-python-py"
  },
  "language_info": {
   "codemirror_mode": {
    "name": "ipython",
    "version": 3
   },
   "file_extension": ".py",
   "mimetype": "text/x-python",
   "name": "python",
   "nbconvert_exporter": "python",
   "pygments_lexer": "ipython3",
   "version": "3.7.12"
  }
 },
 "nbformat": 4,
 "nbformat_minor": 5
}
